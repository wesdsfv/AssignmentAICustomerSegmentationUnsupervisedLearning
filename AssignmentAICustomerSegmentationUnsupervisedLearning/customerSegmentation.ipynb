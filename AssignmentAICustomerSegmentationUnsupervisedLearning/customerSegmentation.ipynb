{
 "cells": [
  {
   "cell_type": "markdown",
   "id": "43a7ea7b-2fa6-48c8-a021-4faf5c653306",
   "metadata": {},
   "source": [
    "CUSTOMER SEGMENTATION MACHINE LEARNING(UNSUPERVISED)"
   ]
  },
  {
   "cell_type": "markdown",
   "id": "94983430-f666-4b3a-b138-c3dc20c5b3db",
   "metadata": {},
   "source": [
    "IMPORTING THE DEPENDENCIES"
   ]
  },
  {
   "cell_type": "code",
   "execution_count": 41,
   "id": "17b2464b-0c67-468e-a820-2e7b45102bcd",
   "metadata": {},
   "outputs": [],
   "source": [
    "import numpy as np\n",
    "import pandas as pd\n",
    "import matplotlib.pyplot as plt\n",
    "import seaborn as sns\n",
    "from sklearn.cluster import KMeans\n",
    "from joblib import dump"
   ]
  },
  {
   "cell_type": "markdown",
   "id": "11dba5d1-2c51-413b-8797-1e17f66771ae",
   "metadata": {},
   "source": [
    "DATA COLLECTION & ANALYSIS"
   ]
  },
  {
   "cell_type": "code",
   "execution_count": 43,
   "id": "61da69a2-0602-4356-acf4-076a5214f766",
   "metadata": {},
   "outputs": [],
   "source": [
    "# loading the data from csv file to a Pandas DataFrame\n",
    "customers_data = pd.read_csv('C:/Users/YAP EU CHENG/Downloads/AssignmentAICustomerSegmentationUnsupervisedLearning/Mall_Customers.csv')"
   ]
  },
  {
   "cell_type": "code",
   "execution_count": 45,
   "id": "b9f35bf0-957c-4989-a1ee-3438c08f528f",
   "metadata": {},
   "outputs": [
    {
     "data": {
      "text/plain": [
       "(200, 5)"
      ]
     },
     "execution_count": 45,
     "metadata": {},
     "output_type": "execute_result"
    }
   ],
   "source": [
    "#Finding the number of rows and columns\n",
    "customers_data.shape"
   ]
  },
  {
   "cell_type": "code",
   "execution_count": 47,
   "id": "87b60d82-4d1a-4c66-97ec-f9fe3773439c",
   "metadata": {},
   "outputs": [
    {
     "name": "stdout",
     "output_type": "stream",
     "text": [
      "<class 'pandas.core.frame.DataFrame'>\n",
      "RangeIndex: 200 entries, 0 to 199\n",
      "Data columns (total 5 columns):\n",
      " #   Column                  Non-Null Count  Dtype \n",
      "---  ------                  --------------  ----- \n",
      " 0   CustomerID              200 non-null    int64 \n",
      " 1   Gender                  200 non-null    object\n",
      " 2   Age                     200 non-null    int64 \n",
      " 3   Annual Income (k$)      200 non-null    int64 \n",
      " 4   Spending Score (1-100)  200 non-null    int64 \n",
      "dtypes: int64(4), object(1)\n",
      "memory usage: 7.9+ KB\n"
     ]
    }
   ],
   "source": [
    "# Getting some informations about the dataset\n",
    "# preview the column and data type and status, num row.\n",
    "customers_data.info()"
   ]
  },
  {
   "cell_type": "code",
   "execution_count": 49,
   "id": "c7e2a0e4-c693-4d60-b9bb-bf0c6f32b556",
   "metadata": {},
   "outputs": [
    {
     "data": {
      "text/plain": [
       "CustomerID                0\n",
       "Gender                    0\n",
       "Age                       0\n",
       "Annual Income (k$)        0\n",
       "Spending Score (1-100)    0\n",
       "dtype: int64"
      ]
     },
     "execution_count": 49,
     "metadata": {},
     "output_type": "execute_result"
    }
   ],
   "source": [
    "# Checking for missing values\n",
    "customers_data.isnull().sum()"
   ]
  },
  {
   "cell_type": "markdown",
   "id": "de056503-47b7-4fa2-8037-a5c05c198e83",
   "metadata": {},
   "source": [
    "CHOOSING THE ANNUAL INCOME COLUMN & SPENDING SCORE COLUMN"
   ]
  },
  {
   "cell_type": "code",
   "execution_count": 52,
   "id": "a566a404-270f-45e3-ab1a-71efc69ddfac",
   "metadata": {},
   "outputs": [
    {
     "name": "stdout",
     "output_type": "stream",
     "text": [
      "[[ 15  39]\n",
      " [ 15  81]\n",
      " [ 16   6]\n",
      " [ 16  77]\n",
      " [ 17  40]\n",
      " [ 17  76]\n",
      " [ 18   6]\n",
      " [ 18  94]\n",
      " [ 19   3]\n",
      " [ 19  72]\n",
      " [ 19  14]\n",
      " [ 19  99]\n",
      " [ 20  15]\n",
      " [ 20  77]\n",
      " [ 20  13]\n",
      " [ 20  79]\n",
      " [ 21  35]\n",
      " [ 21  66]\n",
      " [ 23  29]\n",
      " [ 23  98]\n",
      " [ 24  35]\n",
      " [ 24  73]\n",
      " [ 25   5]\n",
      " [ 25  73]\n",
      " [ 28  14]\n",
      " [ 28  82]\n",
      " [ 28  32]\n",
      " [ 28  61]\n",
      " [ 29  31]\n",
      " [ 29  87]\n",
      " [ 30   4]\n",
      " [ 30  73]\n",
      " [ 33   4]\n",
      " [ 33  92]\n",
      " [ 33  14]\n",
      " [ 33  81]\n",
      " [ 34  17]\n",
      " [ 34  73]\n",
      " [ 37  26]\n",
      " [ 37  75]\n",
      " [ 38  35]\n",
      " [ 38  92]\n",
      " [ 39  36]\n",
      " [ 39  61]\n",
      " [ 39  28]\n",
      " [ 39  65]\n",
      " [ 40  55]\n",
      " [ 40  47]\n",
      " [ 40  42]\n",
      " [ 40  42]\n",
      " [ 42  52]\n",
      " [ 42  60]\n",
      " [ 43  54]\n",
      " [ 43  60]\n",
      " [ 43  45]\n",
      " [ 43  41]\n",
      " [ 44  50]\n",
      " [ 44  46]\n",
      " [ 46  51]\n",
      " [ 46  46]\n",
      " [ 46  56]\n",
      " [ 46  55]\n",
      " [ 47  52]\n",
      " [ 47  59]\n",
      " [ 48  51]\n",
      " [ 48  59]\n",
      " [ 48  50]\n",
      " [ 48  48]\n",
      " [ 48  59]\n",
      " [ 48  47]\n",
      " [ 49  55]\n",
      " [ 49  42]\n",
      " [ 50  49]\n",
      " [ 50  56]\n",
      " [ 54  47]\n",
      " [ 54  54]\n",
      " [ 54  53]\n",
      " [ 54  48]\n",
      " [ 54  52]\n",
      " [ 54  42]\n",
      " [ 54  51]\n",
      " [ 54  55]\n",
      " [ 54  41]\n",
      " [ 54  44]\n",
      " [ 54  57]\n",
      " [ 54  46]\n",
      " [ 57  58]\n",
      " [ 57  55]\n",
      " [ 58  60]\n",
      " [ 58  46]\n",
      " [ 59  55]\n",
      " [ 59  41]\n",
      " [ 60  49]\n",
      " [ 60  40]\n",
      " [ 60  42]\n",
      " [ 60  52]\n",
      " [ 60  47]\n",
      " [ 60  50]\n",
      " [ 61  42]\n",
      " [ 61  49]\n",
      " [ 62  41]\n",
      " [ 62  48]\n",
      " [ 62  59]\n",
      " [ 62  55]\n",
      " [ 62  56]\n",
      " [ 62  42]\n",
      " [ 63  50]\n",
      " [ 63  46]\n",
      " [ 63  43]\n",
      " [ 63  48]\n",
      " [ 63  52]\n",
      " [ 63  54]\n",
      " [ 64  42]\n",
      " [ 64  46]\n",
      " [ 65  48]\n",
      " [ 65  50]\n",
      " [ 65  43]\n",
      " [ 65  59]\n",
      " [ 67  43]\n",
      " [ 67  57]\n",
      " [ 67  56]\n",
      " [ 67  40]\n",
      " [ 69  58]\n",
      " [ 69  91]\n",
      " [ 70  29]\n",
      " [ 70  77]\n",
      " [ 71  35]\n",
      " [ 71  95]\n",
      " [ 71  11]\n",
      " [ 71  75]\n",
      " [ 71   9]\n",
      " [ 71  75]\n",
      " [ 72  34]\n",
      " [ 72  71]\n",
      " [ 73   5]\n",
      " [ 73  88]\n",
      " [ 73   7]\n",
      " [ 73  73]\n",
      " [ 74  10]\n",
      " [ 74  72]\n",
      " [ 75   5]\n",
      " [ 75  93]\n",
      " [ 76  40]\n",
      " [ 76  87]\n",
      " [ 77  12]\n",
      " [ 77  97]\n",
      " [ 77  36]\n",
      " [ 77  74]\n",
      " [ 78  22]\n",
      " [ 78  90]\n",
      " [ 78  17]\n",
      " [ 78  88]\n",
      " [ 78  20]\n",
      " [ 78  76]\n",
      " [ 78  16]\n",
      " [ 78  89]\n",
      " [ 78   1]\n",
      " [ 78  78]\n",
      " [ 78   1]\n",
      " [ 78  73]\n",
      " [ 79  35]\n",
      " [ 79  83]\n",
      " [ 81   5]\n",
      " [ 81  93]\n",
      " [ 85  26]\n",
      " [ 85  75]\n",
      " [ 86  20]\n",
      " [ 86  95]\n",
      " [ 87  27]\n",
      " [ 87  63]\n",
      " [ 87  13]\n",
      " [ 87  75]\n",
      " [ 87  10]\n",
      " [ 87  92]\n",
      " [ 88  13]\n",
      " [ 88  86]\n",
      " [ 88  15]\n",
      " [ 88  69]\n",
      " [ 93  14]\n",
      " [ 93  90]\n",
      " [ 97  32]\n",
      " [ 97  86]\n",
      " [ 98  15]\n",
      " [ 98  88]\n",
      " [ 99  39]\n",
      " [ 99  97]\n",
      " [101  24]\n",
      " [101  68]\n",
      " [103  17]\n",
      " [103  85]\n",
      " [103  23]\n",
      " [103  69]\n",
      " [113   8]\n",
      " [113  91]\n",
      " [120  16]\n",
      " [120  79]\n",
      " [126  28]\n",
      " [126  74]\n",
      " [137  18]\n",
      " [137  83]]\n"
     ]
    }
   ],
   "source": [
    "X = customers_data.iloc[:,[3,4]].values\n",
    "\n",
    "print(X)"
   ]
  },
  {
   "cell_type": "markdown",
   "id": "ff097f55-602d-497e-b12b-022006729bbc",
   "metadata": {},
   "source": [
    "CHOOSING THE NUMBER OF CLUSTERS"
   ]
  },
  {
   "cell_type": "markdown",
   "id": "5b658286-d6d3-4582-a0b6-d978e899ecf3",
   "metadata": {},
   "source": [
    "WCSS --> WITHIN CLUSTERS SUM OF SQUARES"
   ]
  },
  {
   "cell_type": "code",
   "execution_count": 66,
   "id": "b3b14f32-29bd-4e0a-b90b-601648192609",
   "metadata": {},
   "outputs": [],
   "source": [
    "# finding wcss value for different number of clusters\n",
    "import warnings\n",
    "warnings.filterwarnings(\"ignore\", message=\"KMeans is known to have a memory leak on Windows with MKL\")\n",
    "\n",
    "wcss = []\n",
    "\n",
    "for i in range(1,11):\n",
    "    kmeans = KMeans(n_clusters=i, init='k-means++', random_state=42)\n",
    "    kmeans.fit(X)\n",
    "    wcss.append(kmeans.inertia_)"
   ]
  },
  {
   "cell_type": "code",
   "execution_count": 58,
   "id": "ab621016-611d-4c0b-8d9e-f32473e3dc25",
   "metadata": {},
   "outputs": [
    {
     "data": {
      "image/png": "[encoded data removed]",
      "text/plain": [
       "<Figure size 640x480 with 1 Axes>"
      ]
     },
     "metadata": {},
     "output_type": "display_data"
    }
   ],
   "source": [
    "# plot an elbow graph\n",
    "sns.set()\n",
    "plt.plot(range(1,11), wcss)\n",
    "plt.title('The Elbow Point Graph')\n",
    "plt.xlabel('Number of Clusters')\n",
    "plt.ylabel('WCSS')\n",
    "plt.show()"
   ]
  },
  {
   "cell_type": "markdown",
   "id": "911b1037-56b0-43f4-a6ac-2e4751884046",
   "metadata": {},
   "source": [
    "Training the k-Means Clustering Model"
   ]
  },
  {
   "cell_type": "code",
   "execution_count": 71,
   "id": "6111d947-654b-458d-822e-f505f079c0a9",
   "metadata": {},
   "outputs": [
    {
     "name": "stdout",
     "output_type": "stream",
     "text": [
      "[3 4 3 4 3 4 3 4 3 4 3 4 3 4 3 4 3 4 3 4 3 4 3 4 3 4 3 4 3 4 3 4 3 4 3 4 3\n",
      " 4 3 4 3 4 3 0 3 4 0 0 0 0 0 0 0 0 0 0 0 0 0 0 0 0 0 0 0 0 0 0 0 0 0 0 0 0\n",
      " 0 0 0 0 0 0 0 0 0 0 0 0 0 0 0 0 0 0 0 0 0 0 0 0 0 0 0 0 0 0 0 0 0 0 0 0 0\n",
      " 0 0 0 0 0 0 0 0 0 0 0 0 1 2 1 0 1 2 1 2 1 0 1 2 1 2 1 2 1 2 1 0 1 2 1 2 1\n",
      " 2 1 2 1 2 1 2 1 2 1 2 1 2 1 2 1 2 1 2 1 2 1 2 1 2 1 2 1 2 1 2 1 2 1 2 1 2\n",
      " 1 2 1 2 1 2 1 2 1 2 1 2 1 2 1]\n"
     ]
    }
   ],
   "source": [
    "import warnings\n",
    "warnings.filterwarnings(\"ignore\", message=\"KMeans is known to have a memory leak on Windows with MKL\")\n",
    "\n",
    "kmeans = KMeans(n_clusters=5, init='k-means++', random_state=0)\n",
    "\n",
    "# return a label for each data point based on their cluster\n",
    "Y = kmeans.fit_predict(X)\n",
    "\n",
    "dump(kmeans, 'km_model.joblib')\n",
    "\n",
    "print(Y)"
   ]
  },
  {
   "cell_type": "markdown",
   "id": "c2aa0e9c-77be-4b2b-b1b5-e91a25870dac",
   "metadata": {},
   "source": [
    "Visualizing all the Clusters"
   ]
  },
  {
   "cell_type": "code",
   "execution_count": 73,
   "id": "f4d38b9c-4cf1-492a-aad3-50b2cdb5b354",
   "metadata": {},
   "outputs": [
    {
     "data": {
      "image/png": "[encoded data removed]",
      "text/plain": [
       "<Figure size 800x800 with 1 Axes>"
      ]
     },
     "metadata": {},
     "output_type": "display_data"
    }
   ],
   "source": [
    "# Importing necessary libraries\n",
    "import matplotlib.pyplot as plt\n",
    "\n",
    "# Setting up figure size\n",
    "plt.figure(figsize=(8, 8))\n",
    "\n",
    "# Plotting each cluster with different colors, sizes, and labels\n",
    "plt.scatter(X[Y == 0, 0], X[Y == 0, 1], s=60, c='orange', marker='o', label='Group A')\n",
    "plt.scatter(X[Y == 1, 0], X[Y == 1, 1], s=60, c='purple', marker='^', label='Group B')\n",
    "plt.scatter(X[Y == 2, 0], X[Y == 2, 1], s=60, c='lime', marker='s', label='Group C')\n",
    "plt.scatter(X[Y == 3, 0], X[Y == 3, 1], s=60, c='pink', marker='d', label='Group D')\n",
    "plt.scatter(X[Y == 4, 0], X[Y == 4, 1], s=60, c='skyblue', marker='v', label='Group E')\n",
    "\n",
    "# Plotting the centroids with distinct colors and size\n",
    "plt.scatter(kmeans.cluster_centers_[:, 0], kmeans.cluster_centers_[:, 1], s=120, c='black', marker='x', label='Cluster Centers')\n",
    "\n",
    "# Customizing the plot title and axis labels\n",
    "plt.title('Segmentation of Customers by Income and Spending', fontsize=16)\n",
    "plt.xlabel('Income per Year', fontsize=14)\n",
    "plt.ylabel('Score of Spending', fontsize=14)\n",
    "\n",
    "# Adding a legend\n",
    "plt.legend()\n",
    "\n",
    "# Displaying the plot\n",
    "plt.grid(True)\n",
    "plt.show()\n"
   ]
  },
  {
   "cell_type": "markdown",
   "id": "7cf69fa5-76ef-4b9d-ae34-c6ae9b22a25c",
   "metadata": {},
   "source": [
    "STORE THE MODEL IN JOBLIB"
   ]
  },
  {
   "cell_type": "code",
   "execution_count": 75,
   "id": "ddd58b5a-66d6-4026-8385-3b051e2e6f3d",
   "metadata": {},
   "outputs": [],
   "source": [
    "from sklearn.cluster import KMeans\n",
    "from joblib import dump"
   ]
  },
  {
   "cell_type": "code",
   "execution_count": 77,
   "id": "9f3fdf87-df1f-4420-842f-5811b339ffaf",
   "metadata": {},
   "outputs": [
    {
     "data": {
      "text/plain": [
       "['km_model.joblib']"
      ]
     },
     "execution_count": 77,
     "metadata": {},
     "output_type": "execute_result"
    }
   ],
   "source": [
    "dump(kmeans, 'km_model.joblib')"
   ]
  },
  {
   "cell_type": "markdown",
   "id": "c0816838-10d1-4e93-8ad7-e30e9b1afc31",
   "metadata": {},
   "source": [
    "LOAD THE MODEL AND OUTPUT"
   ]
  },
  {
   "cell_type": "code",
   "execution_count": 89,
   "id": "2edeaeab-d173-4687-b7f9-e8afb0ef7e38",
   "metadata": {},
   "outputs": [
    {
     "name": "stdin",
     "output_type": "stream",
     "text": [
      "Enter Annual Income (in $K):  20\n",
      "Enter Spending Score (1-100):  20\n"
     ]
    },
    {
     "name": "stdout",
     "output_type": "stream",
     "text": [
      "The new customer belongs to: Group D\n"
     ]
    }
   ],
   "source": [
    "import joblib\n",
    "import numpy as np\n",
    "\n",
    "# Load the pre-trained KMeans model from joblib\n",
    "model = joblib.load('km_model.joblib')\n",
    "\n",
    "# Take input from the user for Annual Income and Spending Score\n",
    "annual_income = float(input(\"Enter Annual Income (in $K): \"))\n",
    "spending_score = float(input(\"Enter Spending Score (1-100): \"))\n",
    "\n",
    "# Create an input array with the new data point\n",
    "input_array = np.array([[annual_income, spending_score]])\n",
    "\n",
    "# Use the model to predict the cluster label for this new data point\n",
    "predicted_cluster = model.predict(input_array)\n",
    "\n",
    "# Define a mapping from cluster numbers to meaningful group labels (Group A-E)\n",
    "cluster_map = {\n",
    "    0: \"Group A\",  # Median\n",
    "    1: \"Group B\",  # Highest\n",
    "    2: \"Group C\",  # Median Upper\n",
    "    3: \"Group D\",  # Lowest\n",
    "    4: \"Group E\",  # Median Lower\n",
    "}\n",
    "\n",
    "# Output the cluster label the new customer belongs to\n",
    "group_label = cluster_map.get(predicted_cluster[0], \"Unknown Group\")\n",
    "print(f\"The new customer belongs to: {group_label}\")\n",
    "\n"
   ]
  },
  {
   "cell_type": "code",
   "execution_count": null,
   "id": "34269dc8-75ab-4b23-8a53-95d51b8f3aa9",
   "metadata": {},
   "outputs": [],
   "source": []
  }
 ],
 "metadata": {
  "kernelspec": {
   "display_name": "Python 3 (ipykernel)",
   "language": "python",
   "name": "python3"
  },
  "language_info": {
   "codemirror_mode": {
    "name": "ipython",
    "version": 3
   },
   "file_extension": ".py",
   "mimetype": "text/x-python",
   "name": "python",
   "nbconvert_exporter": "python",
   "pygments_lexer": "ipython3",
   "version": "3.12.4"
  }
 },
 "nbformat": 4,
 "nbformat_minor": 5
}
